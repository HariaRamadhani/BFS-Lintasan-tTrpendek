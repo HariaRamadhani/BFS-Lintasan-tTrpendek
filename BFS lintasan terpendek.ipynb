{
 "cells": [
  {
   "cell_type": "code",
   "execution_count": 10,
   "metadata": {},
   "outputs": [
    {
     "name": "stdout",
     "output_type": "stream",
     "text": [
      "['A', 'H', 'D', 'F']\n"
     ]
    }
   ],
   "source": [
    "peta = { 'A': set (['B', 'H']),\n",
    "              'B': set (['A', 'C', 'H']),\n",
    "              'C': set (['B', 'D', 'E']),\n",
    "              'D': set (['C', 'E', 'F', 'G', 'H']),\n",
    "              'E': set (['C', 'D']),\n",
    "              'F': set (['D', 'G']),\n",
    "              'G': set (['D', 'F', 'H']),\n",
    "              'H': set (['A', 'B', 'D', 'G'])\n",
    "              }\n",
    "              \n",
    "def bfs_lintasan_terpendek(peta, mulai, tujuan):\n",
    "    explored = [] #menampung sebuah list untuk menampung semua note\n",
    "    queue = [[mulai]] #untuk mengecek semua jalur\n",
    "\n",
    "      #kondisi atau state\n",
    "    if mulai == tujuan :\n",
    "        return \"Awal adalah tujuan\"\n",
    "    \n",
    "    while queue :\n",
    "        jalur = queue.pop(0)\n",
    "        node = jalur[-1]\n",
    "\n",
    "        if node not in explored :\n",
    "            neighbours = peta[node]\n",
    "\n",
    "            for neighbour in neighbours :\n",
    "                jalur_baru = list(jalur)\n",
    "                jalur_baru.append(neighbour)\n",
    "                queue.append(jalur_baru)\n",
    "\n",
    "                if neighbour ==  tujuan:\n",
    "                    return jalur_baru\n",
    "                \n",
    "            explored.append(node)\n",
    "\n",
    "    return \"Mohon maaf node yang kalian pilih tidak ada\"\n",
    "\n",
    "mulai = input(\"Masukkkan awak : \")\n",
    "tujuan = input (\"Masukkan akhir : \")\n",
    "\n",
    "print(bfs_lintasan_terpendek(peta, mulai, tujuan))    "
   ]
  }
 ],
 "metadata": {
  "kernelspec": {
   "display_name": "Python 3",
   "language": "python",
   "name": "python3"
  },
  "language_info": {
   "codemirror_mode": {
    "name": "ipython",
    "version": 3
   },
   "file_extension": ".py",
   "mimetype": "text/x-python",
   "name": "python",
   "nbconvert_exporter": "python",
   "pygments_lexer": "ipython3",
   "version": "3.12.0"
  },
  "orig_nbformat": 4
 },
 "nbformat": 4,
 "nbformat_minor": 2
}
